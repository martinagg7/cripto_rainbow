{
 "cells": [
  {
   "cell_type": "markdown",
   "id": "6c45b29d",
   "metadata": {},
   "source": [
    "# Tarea: Ataque con Rainbow Tables a MD5\n",
    "\n",
    "**Asignatura:** Criptografía (3.º Ingeniería Matemática)  \n",
    "**Objetivo general:** Investigar y experimentar con ataques a la integridad de contraseñas basados en rainbow tables aplicados al algoritmo MD5.\n",
    "\n",
    "---\n",
    "\n",
    "## Enunciado\n",
    "\n",
    "### Contexto  \n",
    "Las rainbow tables son una técnica de pre‑cómputo que permite invertir funciones hash (como MD5) a costa de memoria adicional. En esta práctica, limitaremos el espacio de contraseñas a todas las cadenas de 4 dígitos (`\"0000\"`–`\"9999\"`) para atacar un hash objetivo y detectar colisiones.\n",
    "\n",
    "### Pasos de la práctica\n",
    "\n",
    "1. **Construcción de la Rainbow Table**  \n",
    "   - Para cada contraseña de 4 dígitos, generar una **cadena de transformación** de longitud 4:  \n",
    "     1. Calcular MD5 del valor actual.  \n",
    "     2. Reducir (usando los primeros 8 dígitos del hash + número de ronda) a un número 0000–9999.  \n",
    "   - Almacenar en un diccionario `{ endpoint → contraseña_inicial }`.  \n",
    "   - Documentar en el informe cuántas entradas hay y si surgieron colisiones en el endpoint durante el pre‑cómputo.\n",
    "\n",
    "2. **Obtención del Hash Objetivo y Generación de la Cadena del Target**  \n",
    "   - Elegir una contraseña real.  \n",
    "   - Calcular su cadena de transformación y anotar el **endpoint**.\n",
    "\n",
    "3. **Búsqueda en la Rainbow Table**  \n",
    "   - Buscar ese endpoint en la tabla pre‑computada.  \n",
    "   - **Detectar colisiones y falso positivo**.\n",
    "\n",
    "4. **Verificación y Análisis de Colisiones**  \n",
    "\n",
    "### Entregables - El trabajo se realizará sobre esta misma plantilla de forma individual\n",
    "\n",
    "1. **Informe Markdown y código Python** que incluya:    \n",
    "   - Código Python completo y comentado.  \n",
    "   - Discusión de resultados y conclusiones.\n",
    "   - Tener ejecutada todas las celdas para facilitar su correción\n",
    "\n",
    "\n",
    "---\n",
    "\n",
    "## Rúbrica de Evaluación\n",
    "\n",
    "| Descriptor                    | Insuficiente (1–3)                                                                                                   | Satisfactorio (4–7)                                                                                                                                       | Sobresaliente (8–10)                                                                                                                                            |\n",
    "|-------------------------------|-----------------------------------------------------------------------------------------------------------------------|-----------------------------------------------------------------------------------------------------------------------------------------------------------|-----------------------------------------------------------------------------------------------------------------------------------------------------------------|\n",
    "| **1. Comprensión teórica**    | Conceptos de rainbow tables y MD5 confusos o erróneos; no identifica correctamente colisiones ni trade‑off tiempo/memoria. | Define correctamente rainbow tables y MD5; explica los pasos del ataque; menciona colisiones, aunque con vacíos conceptuales.                               | Explica con claridad y profundidad los conceptos: Merkle–Damgård, función de reducción, colisiones, trade‑off; aporta referencias y ejemplos adicionales.        |\n",
    "| **2. Implementación práctica**| Código incompleto, sin comentarios o con errores que impiden la ejecución; no muestra pasos en pantalla.               | Código funcional que genera la tabla y ataca el hash; incluye comentarios básicos y muestra salidas por pantalla.                                          | Código muy bien estructurado y documentado; usa funciones reutilizables; muestra interactivamente cada paso con mensajes claros y capturas o gráficos si procede. |\n",
    "| **3. Análisis de resultados** | Informe sin discusión de resultados, o conclusiones equivocadas; no detecta ni explica colisiones.                   | Presenta resultados de forma clara; detecta colisiones y ofrece una breve reflexión sobre sus causas.                                                    | Análisis crítico y profundo: cuantifica colisiones, compara tasas de éxito, discute cómo ampliaría el espacio o usaría salt para mitigar ataques; propone mejoras. |\n",
    "\n",
    "---\n",
    "**Fecha de entrega:** 13 de mayo  \n",
    "**Formato:** Markdown + código  (Notebook Jupyter)\n",
    "**Peso en la nota final:** 20% de la evaluación de la asignatura en su parte ordinaria (40%) \n"
   ]
  },
  {
   "cell_type": "markdown",
   "id": "15da3fa8",
   "metadata": {},
   "source": []
  }
 ],
 "metadata": {
  "kernelspec": {
   "display_name": "Python 3",
   "language": "python",
   "name": "python3"
  },
  "language_info": {
   "name": "python",
   "version": "3.12.6"
  }
 },
 "nbformat": 4,
 "nbformat_minor": 5
}
